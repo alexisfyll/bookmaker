{
 "cells": [
  {
   "cell_type": "code",
   "execution_count": 125,
   "id": "40ca45e8-d817-41a0-a7c2-fa5d56d9cb42",
   "metadata": {
    "ExecuteTime": {
     "end_time": "2024-11-14T14:20:20.387143Z",
     "start_time": "2024-11-14T14:20:20.383024Z"
    }
   },
   "outputs": [],
   "source": [
    "import pandas as pd\n",
    "import requests\n",
    "from bs4 import BeautifulSoup\n",
    "import re"
   ]
  },
  {
   "cell_type": "code",
   "execution_count": 126,
   "id": "27a0e786-1e37-4e9b-8c64-845c3bb759b4",
   "metadata": {
    "ExecuteTime": {
     "end_time": "2024-11-14T14:20:20.888812Z",
     "start_time": "2024-11-14T14:20:20.884975Z"
    }
   },
   "outputs": [],
   "source": [
    "# url of 23/24 PL games\n",
    "url = 'https://fbref.com/en/comps/9/2023-2024/schedule/2023-2024-Premier-League-Scores-and-Fixtures'"
   ]
  },
  {
   "cell_type": "code",
   "execution_count": null,
   "id": "2ae45fde-ad83-495a-aaf9-4f71dbd07841",
   "metadata": {
    "ExecuteTime": {
     "end_time": "2024-11-14T14:20:20.987780Z",
     "start_time": "2024-11-14T14:20:20.987767Z"
    }
   },
   "outputs": [],
   "source": [
    "# get the table of fixtures\n",
    "df = pd.read_html(url, \n",
    "                 attrs={\"id\":\"sched_2023-2024_9_1\"}\n",
    "                 )"
   ]
  },
  {
   "cell_type": "code",
   "execution_count": 127,
   "id": "a1b5e689-de89-4b0f-85cf-d49dcb70f7dd",
   "metadata": {
    "ExecuteTime": {
     "end_time": "2024-11-14T14:20:21.848700Z",
     "start_time": "2024-11-14T14:20:21.049938Z"
    }
   },
   "outputs": [],
   "source": [
    "# Initializing parser\n",
    "response = requests.get(url)\n",
    "soup = BeautifulSoup(response.content, \"html.parser\")\n"
   ]
  },
  {
   "cell_type": "markdown",
   "id": "efbeb950-1887-40dd-adf3-ea9f20fb801b",
   "metadata": {},
   "source": [
    "## First exploration"
   ]
  },
  {
   "cell_type": "code",
   "execution_count": null,
   "id": "9a000b5d-98fa-4995-a3a7-af82c5dfccab",
   "metadata": {
    "ExecuteTime": {
     "end_time": "2024-11-14T14:20:21.903856Z",
     "start_time": "2024-11-14T14:20:21.903843Z"
    }
   },
   "outputs": [],
   "source": [
    "# Get the html pf the fictures table \n",
    "table = soup.find(id='sched_2023-2024_9_1').find(\"tbody\")"
   ]
  },
  {
   "cell_type": "code",
   "execution_count": null,
   "id": "37ce3210-80d7-4815-9252-59da405e1392",
   "metadata": {
    "ExecuteTime": {
     "end_time": "2024-11-14T14:20:21.914999Z",
     "start_time": "2024-11-14T14:20:21.914980Z"
    }
   },
   "outputs": [],
   "source": [
    "table.find(\"tr\")"
   ]
  },
  {
   "cell_type": "code",
   "execution_count": null,
   "id": "756c90bb-3b9d-4073-b83e-106812c2cc07",
   "metadata": {
    "ExecuteTime": {
     "end_time": "2024-11-14T14:20:21.924376Z",
     "start_time": "2024-11-14T14:20:21.924364Z"
    }
   },
   "outputs": [],
   "source": [
    "table.find(\"tr\").find('td', class_='right', attrs={'data-stat': 'home_team'}).string"
   ]
  },
  {
   "cell_type": "code",
   "execution_count": null,
   "id": "80ad560b-2aae-495e-b91a-8eedd6c3e0f4",
   "metadata": {
    "ExecuteTime": {
     "end_time": "2024-11-14T14:20:21.933517Z",
     "start_time": "2024-11-14T14:20:21.933501Z"
    }
   },
   "outputs": [],
   "source": [
    "table.find(\"tr\").find('td', class_='left', attrs={'data-stat': 'match_report'}).find('a').get('href')"
   ]
  },
  {
   "cell_type": "code",
   "execution_count": null,
   "id": "2c12c613-2693-43d8-a55f-15036978392a",
   "metadata": {
    "ExecuteTime": {
     "end_time": "2024-11-14T14:20:21.941235Z",
     "start_time": "2024-11-14T14:20:21.941223Z"
    },
    "scrolled": true
   },
   "outputs": [],
   "source": [
    "# target is to get home team name\n",
    "for game in table.find_all(\"tr\"):\n",
    "    ht = game.find('td', class_='right', attrs={'data-stat': 'home_team'}).string\n",
    "    print(ht)"
   ]
  },
  {
   "cell_type": "code",
   "execution_count": null,
   "id": "c8601884",
   "metadata": {
    "ExecuteTime": {
     "end_time": "2024-11-14T14:20:21.950502Z",
     "start_time": "2024-11-14T14:20:21.950490Z"
    },
    "scrolled": true
   },
   "outputs": [],
   "source": [
    "# target is to get home team link\n",
    "for game in table.find_all(\"tr\"):\n",
    "    if \"spacer\" in game.get('class', []) and \"partial_table\" in game.get('class', []) and \"result_all\" in game.get('class', []):\n",
    "        continue\n",
    "    ht = game.find('td', class_='right', attrs={'data-stat': 'home_team'}).find('a').get('href')\n",
    "    print(ht)"
   ]
  },
  {
   "cell_type": "code",
   "execution_count": null,
   "id": "70eb76d4",
   "metadata": {
    "ExecuteTime": {
     "end_time": "2024-11-14T14:20:21.959058Z",
     "start_time": "2024-11-14T14:20:21.959045Z"
    }
   },
   "outputs": [],
   "source": [
    "squad_id_pattern = r\"/squads/([a-f0-9]+)/\"\n",
    "\n",
    "test_team = '/en/squads/1df6b87e/2023-2024/Sheffield-United-Stats'\n",
    "ht = re.search(squad_id_pattern, test_team)"
   ]
  },
  {
   "cell_type": "code",
   "execution_count": null,
   "id": "b6125e80",
   "metadata": {
    "ExecuteTime": {
     "end_time": "2024-11-14T14:20:21.967596Z",
     "start_time": "2024-11-14T14:20:21.967584Z"
    }
   },
   "outputs": [],
   "source": [
    "ht.match()"
   ]
  },
  {
   "cell_type": "code",
   "execution_count": null,
   "id": "a7f90026-992c-4ae6-904c-656f19c5db90",
   "metadata": {
    "ExecuteTime": {
     "end_time": "2024-11-14T14:20:21.979542Z",
     "start_time": "2024-11-14T14:20:21.979527Z"
    },
    "scrolled": true
   },
   "outputs": [],
   "source": [
    "# target is to get the report match link\n",
    "i=0\n",
    "for game in table.find_all(\"tr\"):\n",
    "    if \"spacer\" in game.get('class', []) and \"partial_table\" in game.get('class', []) and \"result_all\" in game.get('class', []):\n",
    "        continue\n",
    "    mr = game.find('td', class_='left', attrs={'data-stat': 'match_report'}).find('a').get('href')\n",
    "    i+=1 \n",
    "    print(i, mr)"
   ]
  },
  {
   "cell_type": "code",
   "execution_count": 128,
   "id": "31bb2d94",
   "metadata": {
    "ExecuteTime": {
     "end_time": "2024-11-14T14:20:21.998734Z",
     "start_time": "2024-11-14T14:20:21.996051Z"
    }
   },
   "outputs": [],
   "source": [
    "test = '/en/matches/3a6836b4/Burnley-Manchester-City-August-11-2023-Premier-League'"
   ]
  },
  {
   "cell_type": "code",
   "execution_count": 129,
   "id": "ce310384",
   "metadata": {
    "ExecuteTime": {
     "end_time": "2024-11-14T14:20:22.061227Z",
     "start_time": "2024-11-14T14:20:22.056935Z"
    }
   },
   "outputs": [
    {
     "data": {
      "text/plain": [
       "'3a6836b4'"
      ]
     },
     "execution_count": 129,
     "metadata": {},
     "output_type": "execute_result"
    }
   ],
   "source": [
    "test.split('/')[3]"
   ]
  },
  {
   "cell_type": "code",
   "execution_count": 130,
   "id": "13061578",
   "metadata": {
    "ExecuteTime": {
     "end_time": "2024-11-14T14:20:22.132576Z",
     "start_time": "2024-11-14T14:20:22.129756Z"
    }
   },
   "outputs": [],
   "source": [
    "match = re.search(game_id_pattern, test)"
   ]
  },
  {
   "cell_type": "code",
   "execution_count": 131,
   "id": "c7aed98c",
   "metadata": {
    "ExecuteTime": {
     "end_time": "2024-11-14T14:20:22.217048Z",
     "start_time": "2024-11-14T14:20:22.213621Z"
    }
   },
   "outputs": [
    {
     "data": {
      "text/plain": [
       "<re.Match object; span=(3, 21), match='/matches/3a6836b4/'>"
      ]
     },
     "execution_count": 131,
     "metadata": {},
     "output_type": "execute_result"
    }
   ],
   "source": [
    "match"
   ]
  },
  {
   "cell_type": "markdown",
   "id": "7908a36a-2cec-4edc-a8ac-b36ae8e09a22",
   "metadata": {},
   "source": [
    "## Get proper table"
   ]
  },
  {
   "cell_type": "code",
   "execution_count": 132,
   "id": "c952fbc7-bd6a-47b4-bc4c-e45c74285ec3",
   "metadata": {
    "ExecuteTime": {
     "end_time": "2024-11-14T14:20:22.405044Z",
     "start_time": "2024-11-14T14:20:22.386143Z"
    }
   },
   "outputs": [
    {
     "data": {
      "text/html": [
       "<div>\n",
       "<style scoped>\n",
       "    .dataframe tbody tr th:only-of-type {\n",
       "        vertical-align: middle;\n",
       "    }\n",
       "\n",
       "    .dataframe tbody tr th {\n",
       "        vertical-align: top;\n",
       "    }\n",
       "\n",
       "    .dataframe thead th {\n",
       "        text-align: right;\n",
       "    }\n",
       "</style>\n",
       "<table border=\"1\" class=\"dataframe\">\n",
       "  <thead>\n",
       "    <tr style=\"text-align: right;\">\n",
       "      <th></th>\n",
       "      <th>Wk</th>\n",
       "      <th>Day</th>\n",
       "      <th>Date</th>\n",
       "      <th>Time</th>\n",
       "      <th>Home</th>\n",
       "      <th>xG</th>\n",
       "      <th>Score</th>\n",
       "      <th>xG.1</th>\n",
       "      <th>Away</th>\n",
       "      <th>Attendance</th>\n",
       "      <th>Venue</th>\n",
       "      <th>Referee</th>\n",
       "      <th>Match Report</th>\n",
       "      <th>Notes</th>\n",
       "    </tr>\n",
       "  </thead>\n",
       "  <tbody>\n",
       "    <tr>\n",
       "      <th>0</th>\n",
       "      <td>1.0</td>\n",
       "      <td>Fri</td>\n",
       "      <td>2023-08-11</td>\n",
       "      <td>20:00</td>\n",
       "      <td>Burnley</td>\n",
       "      <td>0.3</td>\n",
       "      <td>0–3</td>\n",
       "      <td>1.9</td>\n",
       "      <td>Manchester City</td>\n",
       "      <td>21572.0</td>\n",
       "      <td>Turf Moor</td>\n",
       "      <td>Craig Pawson</td>\n",
       "      <td>Match Report</td>\n",
       "      <td>NaN</td>\n",
       "    </tr>\n",
       "    <tr>\n",
       "      <th>1</th>\n",
       "      <td>1.0</td>\n",
       "      <td>Sat</td>\n",
       "      <td>2023-08-12</td>\n",
       "      <td>12:30</td>\n",
       "      <td>Arsenal</td>\n",
       "      <td>0.8</td>\n",
       "      <td>2–1</td>\n",
       "      <td>1.2</td>\n",
       "      <td>Nott'ham Forest</td>\n",
       "      <td>59984.0</td>\n",
       "      <td>Emirates Stadium</td>\n",
       "      <td>Michael Oliver</td>\n",
       "      <td>Match Report</td>\n",
       "      <td>NaN</td>\n",
       "    </tr>\n",
       "    <tr>\n",
       "      <th>2</th>\n",
       "      <td>1.0</td>\n",
       "      <td>Sat</td>\n",
       "      <td>2023-08-12</td>\n",
       "      <td>15:00</td>\n",
       "      <td>Everton</td>\n",
       "      <td>2.7</td>\n",
       "      <td>0–1</td>\n",
       "      <td>1.5</td>\n",
       "      <td>Fulham</td>\n",
       "      <td>39940.0</td>\n",
       "      <td>Goodison Park</td>\n",
       "      <td>Stuart Attwell</td>\n",
       "      <td>Match Report</td>\n",
       "      <td>NaN</td>\n",
       "    </tr>\n",
       "    <tr>\n",
       "      <th>3</th>\n",
       "      <td>1.0</td>\n",
       "      <td>Sat</td>\n",
       "      <td>2023-08-12</td>\n",
       "      <td>15:00</td>\n",
       "      <td>Sheffield Utd</td>\n",
       "      <td>0.5</td>\n",
       "      <td>0–1</td>\n",
       "      <td>1.9</td>\n",
       "      <td>Crystal Palace</td>\n",
       "      <td>31194.0</td>\n",
       "      <td>Bramall Lane</td>\n",
       "      <td>John Brooks</td>\n",
       "      <td>Match Report</td>\n",
       "      <td>NaN</td>\n",
       "    </tr>\n",
       "    <tr>\n",
       "      <th>4</th>\n",
       "      <td>1.0</td>\n",
       "      <td>Sat</td>\n",
       "      <td>2023-08-12</td>\n",
       "      <td>15:00</td>\n",
       "      <td>Brighton</td>\n",
       "      <td>4.0</td>\n",
       "      <td>4–1</td>\n",
       "      <td>1.5</td>\n",
       "      <td>Luton Town</td>\n",
       "      <td>31872.0</td>\n",
       "      <td>The American Express Community Stadium</td>\n",
       "      <td>David Coote</td>\n",
       "      <td>Match Report</td>\n",
       "      <td>NaN</td>\n",
       "    </tr>\n",
       "  </tbody>\n",
       "</table>\n",
       "</div>"
      ],
      "text/plain": [
       "    Wk  Day        Date   Time           Home   xG Score  xG.1  \\\n",
       "0  1.0  Fri  2023-08-11  20:00        Burnley  0.3   0–3   1.9   \n",
       "1  1.0  Sat  2023-08-12  12:30        Arsenal  0.8   2–1   1.2   \n",
       "2  1.0  Sat  2023-08-12  15:00        Everton  2.7   0–1   1.5   \n",
       "3  1.0  Sat  2023-08-12  15:00  Sheffield Utd  0.5   0–1   1.9   \n",
       "4  1.0  Sat  2023-08-12  15:00       Brighton  4.0   4–1   1.5   \n",
       "\n",
       "              Away  Attendance                                   Venue  \\\n",
       "0  Manchester City     21572.0                               Turf Moor   \n",
       "1  Nott'ham Forest     59984.0                        Emirates Stadium   \n",
       "2           Fulham     39940.0                           Goodison Park   \n",
       "3   Crystal Palace     31194.0                            Bramall Lane   \n",
       "4       Luton Town     31872.0  The American Express Community Stadium   \n",
       "\n",
       "          Referee  Match Report  Notes  \n",
       "0    Craig Pawson  Match Report    NaN  \n",
       "1  Michael Oliver  Match Report    NaN  \n",
       "2  Stuart Attwell  Match Report    NaN  \n",
       "3     John Brooks  Match Report    NaN  \n",
       "4     David Coote  Match Report    NaN  "
      ]
     },
     "execution_count": 132,
     "metadata": {},
     "output_type": "execute_result"
    }
   ],
   "source": [
    "fixtures = df[0].dropna(how='all')\n",
    "fixtures.head(5)"
   ]
  },
  {
   "cell_type": "code",
   "execution_count": null,
   "id": "0a8c4f4d-bbb3-4fc4-a4f4-d1050254b351",
   "metadata": {
    "ExecuteTime": {
     "end_time": "2024-11-14T14:20:22.500887Z",
     "start_time": "2024-11-14T14:20:22.500875Z"
    }
   },
   "outputs": [],
   "source": [
    "fixtures.info()"
   ]
  },
  {
   "cell_type": "code",
   "execution_count": 133,
   "id": "bc066f93-e65e-4078-a6b4-1babe5aca663",
   "metadata": {
    "ExecuteTime": {
     "end_time": "2024-11-14T14:20:22.569277Z",
     "start_time": "2024-11-14T14:20:22.552541Z"
    }
   },
   "outputs": [
    {
     "data": {
      "text/html": [
       "<div>\n",
       "<style scoped>\n",
       "    .dataframe tbody tr th:only-of-type {\n",
       "        vertical-align: middle;\n",
       "    }\n",
       "\n",
       "    .dataframe tbody tr th {\n",
       "        vertical-align: top;\n",
       "    }\n",
       "\n",
       "    .dataframe thead th {\n",
       "        text-align: right;\n",
       "    }\n",
       "</style>\n",
       "<table border=\"1\" class=\"dataframe\">\n",
       "  <thead>\n",
       "    <tr style=\"text-align: right;\">\n",
       "      <th></th>\n",
       "      <th>gameweek</th>\n",
       "      <th>date</th>\n",
       "      <th>home_team</th>\n",
       "      <th>score</th>\n",
       "      <th>away_team</th>\n",
       "    </tr>\n",
       "  </thead>\n",
       "  <tbody>\n",
       "    <tr>\n",
       "      <th>0</th>\n",
       "      <td>1</td>\n",
       "      <td>2023-08-11</td>\n",
       "      <td>Burnley</td>\n",
       "      <td>0–3</td>\n",
       "      <td>Manchester City</td>\n",
       "    </tr>\n",
       "    <tr>\n",
       "      <th>1</th>\n",
       "      <td>1</td>\n",
       "      <td>2023-08-12</td>\n",
       "      <td>Arsenal</td>\n",
       "      <td>2–1</td>\n",
       "      <td>Nott'ham Forest</td>\n",
       "    </tr>\n",
       "    <tr>\n",
       "      <th>2</th>\n",
       "      <td>1</td>\n",
       "      <td>2023-08-12</td>\n",
       "      <td>Everton</td>\n",
       "      <td>0–1</td>\n",
       "      <td>Fulham</td>\n",
       "    </tr>\n",
       "    <tr>\n",
       "      <th>3</th>\n",
       "      <td>1</td>\n",
       "      <td>2023-08-12</td>\n",
       "      <td>Sheffield Utd</td>\n",
       "      <td>0–1</td>\n",
       "      <td>Crystal Palace</td>\n",
       "    </tr>\n",
       "    <tr>\n",
       "      <th>4</th>\n",
       "      <td>1</td>\n",
       "      <td>2023-08-12</td>\n",
       "      <td>Brighton</td>\n",
       "      <td>4–1</td>\n",
       "      <td>Luton Town</td>\n",
       "    </tr>\n",
       "    <tr>\n",
       "      <th>5</th>\n",
       "      <td>1</td>\n",
       "      <td>2023-08-12</td>\n",
       "      <td>Bournemouth</td>\n",
       "      <td>1–1</td>\n",
       "      <td>West Ham</td>\n",
       "    </tr>\n",
       "    <tr>\n",
       "      <th>6</th>\n",
       "      <td>1</td>\n",
       "      <td>2023-08-12</td>\n",
       "      <td>Newcastle Utd</td>\n",
       "      <td>5–1</td>\n",
       "      <td>Aston Villa</td>\n",
       "    </tr>\n",
       "    <tr>\n",
       "      <th>7</th>\n",
       "      <td>1</td>\n",
       "      <td>2023-08-13</td>\n",
       "      <td>Brentford</td>\n",
       "      <td>2–2</td>\n",
       "      <td>Tottenham</td>\n",
       "    </tr>\n",
       "    <tr>\n",
       "      <th>8</th>\n",
       "      <td>1</td>\n",
       "      <td>2023-08-13</td>\n",
       "      <td>Chelsea</td>\n",
       "      <td>1–1</td>\n",
       "      <td>Liverpool</td>\n",
       "    </tr>\n",
       "    <tr>\n",
       "      <th>9</th>\n",
       "      <td>1</td>\n",
       "      <td>2023-08-14</td>\n",
       "      <td>Manchester Utd</td>\n",
       "      <td>1–0</td>\n",
       "      <td>Wolves</td>\n",
       "    </tr>\n",
       "  </tbody>\n",
       "</table>\n",
       "</div>"
      ],
      "text/plain": [
       "   gameweek       date       home_team score        away_team\n",
       "0         1 2023-08-11         Burnley   0–3  Manchester City\n",
       "1         1 2023-08-12         Arsenal   2–1  Nott'ham Forest\n",
       "2         1 2023-08-12         Everton   0–1           Fulham\n",
       "3         1 2023-08-12   Sheffield Utd   0–1   Crystal Palace\n",
       "4         1 2023-08-12        Brighton   4–1       Luton Town\n",
       "5         1 2023-08-12     Bournemouth   1–1         West Ham\n",
       "6         1 2023-08-12   Newcastle Utd   5–1      Aston Villa\n",
       "7         1 2023-08-13       Brentford   2–2        Tottenham\n",
       "8         1 2023-08-13         Chelsea   1–1        Liverpool\n",
       "9         1 2023-08-14  Manchester Utd   1–0           Wolves"
      ]
     },
     "execution_count": 133,
     "metadata": {},
     "output_type": "execute_result"
    }
   ],
   "source": [
    "fixtures = fixtures[['Wk', 'Date', 'Home', 'Score', 'Away']]\n",
    "fixtures.rename(columns={'Wk': 'gameweek',\n",
    "                         'Date': 'date',\n",
    "                         'Home': 'home_team',\n",
    "                         'Score': 'score',\n",
    "                         'Away': 'away_team'}, inplace=True)\n",
    "\n",
    "fixtures['home_team'] = fixtures['home_team'].astype(str)\n",
    "fixtures['away_team'] = fixtures['away_team'].astype(str)\n",
    "fixtures['gameweek'] = fixtures['gameweek'].astype(int)\n",
    "fixtures['date'] = pd.to_datetime(fixtures['date'])\n",
    "        \n",
    "fixtures.head(10)"
   ]
  },
  {
   "cell_type": "code",
   "execution_count": 134,
   "id": "3fb11ec3-52d6-43b9-a222-c142b36be8be",
   "metadata": {
    "ExecuteTime": {
     "end_time": "2024-11-14T14:20:22.730850Z",
     "start_time": "2024-11-14T14:20:22.638828Z"
    }
   },
   "outputs": [
    {
     "data": {
      "text/html": [
       "<div>\n",
       "<style scoped>\n",
       "    .dataframe tbody tr th:only-of-type {\n",
       "        vertical-align: middle;\n",
       "    }\n",
       "\n",
       "    .dataframe tbody tr th {\n",
       "        vertical-align: top;\n",
       "    }\n",
       "\n",
       "    .dataframe thead th {\n",
       "        text-align: right;\n",
       "    }\n",
       "</style>\n",
       "<table border=\"1\" class=\"dataframe\">\n",
       "  <thead>\n",
       "    <tr style=\"text-align: right;\">\n",
       "      <th></th>\n",
       "      <th>game_id</th>\n",
       "      <th>home_id</th>\n",
       "      <th>away_id</th>\n",
       "    </tr>\n",
       "  </thead>\n",
       "  <tbody>\n",
       "    <tr>\n",
       "      <th>0</th>\n",
       "      <td>3a6836b4</td>\n",
       "      <td>943e8050</td>\n",
       "      <td>b8fd03ef</td>\n",
       "    </tr>\n",
       "    <tr>\n",
       "      <th>1</th>\n",
       "      <td>26a7f90c</td>\n",
       "      <td>18bb7c10</td>\n",
       "      <td>e4a775cb</td>\n",
       "    </tr>\n",
       "    <tr>\n",
       "      <th>2</th>\n",
       "      <td>15addfc7</td>\n",
       "      <td>d3fd31cc</td>\n",
       "      <td>fd962109</td>\n",
       "    </tr>\n",
       "  </tbody>\n",
       "</table>\n",
       "</div>"
      ],
      "text/plain": [
       "    game_id   home_id   away_id\n",
       "0  3a6836b4  943e8050  b8fd03ef\n",
       "1  26a7f90c  18bb7c10  e4a775cb\n",
       "2  15addfc7  d3fd31cc  fd962109"
      ]
     },
     "execution_count": 134,
     "metadata": {},
     "output_type": "execute_result"
    }
   ],
   "source": [
    "# Get the html pf the fictures table\n",
    "table = soup.find(id='sched_2023-2024_9_1').find(\"tbody\")\n",
    "game_ids = []\n",
    "home_ids = []\n",
    "away_ids = []\n",
    "squad_id_pattern = r\"/squads/([a-f0-9]+)/\"\n",
    "game_id_pattern = r\"/matches/([a-f0-9]+)/\"\n",
    "\n",
    "# Loop through the rows of the table\n",
    "for game in table.find_all(\"tr\"):\n",
    "    # Skip rows with spacer\n",
    "    if \"spacer\" in game.get('class', []) and \"partial_table\" in game.get('class', []) and \"result_all\" in game.get('class', []):\n",
    "        continue\n",
    "\n",
    "    # Extract match report / home / away URLs\n",
    "    match_report = game.find('td', class_='left', attrs={'data-stat': 'match_report'})\n",
    "    home_team = game.find('td', class_='right', attrs={'data-stat': 'home_team'})\n",
    "    away_team = game.find('td', class_='left', attrs={'data-stat': 'away_team'})\n",
    "    \n",
    "    # Check if the match_report element is found\n",
    "    if match_report:\n",
    "        mr = match_report.find('a').get('href')\n",
    "        ht = home_team.find('a').get('href')\n",
    "        at = away_team.find('a').get('href')\n",
    "        # extract game & teams ids using regex\n",
    "        game_id = re.search(game_id_pattern, mr)\n",
    "        home_id = re.search(squad_id_pattern, ht)\n",
    "        away_id = re.search(squad_id_pattern, at)\n",
    "        # Store ids\n",
    "        game_ids.append(game_id.group(1) if game_id else '')\n",
    "        home_ids.append(home_id.group(1) if home_id else '')\n",
    "        away_ids.append(away_id.group(1) if away_id else '')\n",
    "        \n",
    "\n",
    "# Create a DataFrame from the list of match id\n",
    "df_id = pd.DataFrame({\n",
    "                'game_id': game_ids, \n",
    "                'home_id': home_ids,\n",
    "                'away_id': away_ids})\n",
    "\n",
    "df_id.head(3)"
   ]
  },
  {
   "cell_type": "code",
   "execution_count": 135,
   "id": "b0bb71a2-c617-4be9-a133-8de585f882fe",
   "metadata": {
    "ExecuteTime": {
     "end_time": "2024-11-14T14:20:23.186004Z",
     "start_time": "2024-11-14T14:20:23.172078Z"
    }
   },
   "outputs": [
    {
     "data": {
      "text/html": [
       "<div>\n",
       "<style scoped>\n",
       "    .dataframe tbody tr th:only-of-type {\n",
       "        vertical-align: middle;\n",
       "    }\n",
       "\n",
       "    .dataframe tbody tr th {\n",
       "        vertical-align: top;\n",
       "    }\n",
       "\n",
       "    .dataframe thead th {\n",
       "        text-align: right;\n",
       "    }\n",
       "</style>\n",
       "<table border=\"1\" class=\"dataframe\">\n",
       "  <thead>\n",
       "    <tr style=\"text-align: right;\">\n",
       "      <th></th>\n",
       "      <th>gameweek</th>\n",
       "      <th>date</th>\n",
       "      <th>home_team</th>\n",
       "      <th>score</th>\n",
       "      <th>away_team</th>\n",
       "      <th>game_id</th>\n",
       "      <th>home_id</th>\n",
       "      <th>away_id</th>\n",
       "    </tr>\n",
       "  </thead>\n",
       "  <tbody>\n",
       "    <tr>\n",
       "      <th>0</th>\n",
       "      <td>1.0</td>\n",
       "      <td>2023-08-11</td>\n",
       "      <td>Burnley</td>\n",
       "      <td>0–3</td>\n",
       "      <td>Manchester City</td>\n",
       "      <td>3a6836b4</td>\n",
       "      <td>943e8050</td>\n",
       "      <td>b8fd03ef</td>\n",
       "    </tr>\n",
       "    <tr>\n",
       "      <th>1</th>\n",
       "      <td>1.0</td>\n",
       "      <td>2023-08-12</td>\n",
       "      <td>Arsenal</td>\n",
       "      <td>2–1</td>\n",
       "      <td>Nott'ham Forest</td>\n",
       "      <td>26a7f90c</td>\n",
       "      <td>18bb7c10</td>\n",
       "      <td>e4a775cb</td>\n",
       "    </tr>\n",
       "    <tr>\n",
       "      <th>2</th>\n",
       "      <td>1.0</td>\n",
       "      <td>2023-08-12</td>\n",
       "      <td>Everton</td>\n",
       "      <td>0–1</td>\n",
       "      <td>Fulham</td>\n",
       "      <td>15addfc7</td>\n",
       "      <td>d3fd31cc</td>\n",
       "      <td>fd962109</td>\n",
       "    </tr>\n",
       "    <tr>\n",
       "      <th>3</th>\n",
       "      <td>1.0</td>\n",
       "      <td>2023-08-12</td>\n",
       "      <td>Sheffield Utd</td>\n",
       "      <td>0–1</td>\n",
       "      <td>Crystal Palace</td>\n",
       "      <td>55fd92c7</td>\n",
       "      <td>1df6b87e</td>\n",
       "      <td>47c64c55</td>\n",
       "    </tr>\n",
       "  </tbody>\n",
       "</table>\n",
       "</div>"
      ],
      "text/plain": [
       "   gameweek       date      home_team score        away_team   game_id  \\\n",
       "0       1.0 2023-08-11        Burnley   0–3  Manchester City  3a6836b4   \n",
       "1       1.0 2023-08-12        Arsenal   2–1  Nott'ham Forest  26a7f90c   \n",
       "2       1.0 2023-08-12        Everton   0–1           Fulham  15addfc7   \n",
       "3       1.0 2023-08-12  Sheffield Utd   0–1   Crystal Palace  55fd92c7   \n",
       "\n",
       "    home_id   away_id  \n",
       "0  943e8050  b8fd03ef  \n",
       "1  18bb7c10  e4a775cb  \n",
       "2  d3fd31cc  fd962109  \n",
       "3  1df6b87e  47c64c55  "
      ]
     },
     "execution_count": 135,
     "metadata": {},
     "output_type": "execute_result"
    }
   ],
   "source": [
    "df_games = pd.concat([fixtures, df_id], axis=1)\n",
    "df_games.head(4)"
   ]
  },
  {
   "cell_type": "code",
   "execution_count": 136,
   "id": "8b8f9d80-fc19-4192-be53-93bfc08c70c9",
   "metadata": {
    "ExecuteTime": {
     "end_time": "2024-11-14T14:20:23.436541Z",
     "start_time": "2024-11-14T14:20:23.427203Z"
    }
   },
   "outputs": [
    {
     "name": "stdout",
     "output_type": "stream",
     "text": [
      "<class 'pandas.core.frame.DataFrame'>\n",
      "Index: 418 entries, 0 to 373\n",
      "Data columns (total 8 columns):\n",
      " #   Column     Non-Null Count  Dtype         \n",
      "---  ------     --------------  -----         \n",
      " 0   gameweek   380 non-null    float64       \n",
      " 1   date       380 non-null    datetime64[ns]\n",
      " 2   home_team  380 non-null    object        \n",
      " 3   score      380 non-null    object        \n",
      " 4   away_team  380 non-null    object        \n",
      " 5   game_id    380 non-null    object        \n",
      " 6   home_id    380 non-null    object        \n",
      " 7   away_id    380 non-null    object        \n",
      "dtypes: datetime64[ns](1), float64(1), object(6)\n",
      "memory usage: 29.4+ KB\n"
     ]
    }
   ],
   "source": [
    "df_games.info()"
   ]
  },
  {
   "cell_type": "code",
   "execution_count": null,
   "id": "a72c3492-2db3-4678-a17d-d7d11edbba9f",
   "metadata": {
    "ExecuteTime": {
     "end_time": "2024-11-14T14:19:25.746837Z",
     "start_time": "2024-11-14T14:19:25.717589Z"
    }
   },
   "outputs": [],
   "source": []
  },
  {
   "cell_type": "code",
   "execution_count": 143,
   "id": "0c3e6ad1",
   "metadata": {
    "ExecuteTime": {
     "end_time": "2024-11-14T14:36:52.095937Z",
     "start_time": "2024-11-14T14:36:52.041356Z"
    }
   },
   "outputs": [
    {
     "data": {
      "text/plain": [
       "'/Users/alexisfayolle/code/alexisfyll/bookmaker'"
      ]
     },
     "execution_count": 143,
     "metadata": {},
     "output_type": "execute_result"
    }
   ],
   "source": [
    "import subprocess\n",
    "import os\n",
    "\n",
    "# Get the root directory of the git repository\n",
    "def get_git_root():\n",
    "    return subprocess.check_output(['git', 'rev-parse', '--show-toplevel']).strip().decode('utf-8')\n",
    "\n",
    "# Use the function\n",
    "repo_root = get_git_root()\n",
    "\n",
    "repo_root"
   ]
  },
  {
   "cell_type": "code",
   "execution_count": 144,
   "id": "b5ec7dd1",
   "metadata": {
    "ExecuteTime": {
     "end_time": "2024-11-14T14:36:52.612585Z",
     "start_time": "2024-11-14T14:36:52.604037Z"
    }
   },
   "outputs": [],
   "source": [
    "df_games.to_csv(f'{repo_root}/raw_data/data_pl_23-24.csv')"
   ]
  },
  {
   "cell_type": "code",
   "execution_count": null,
   "id": "014538a2",
   "metadata": {},
   "outputs": [],
   "source": []
  },
  {
   "cell_type": "code",
   "execution_count": null,
   "id": "fa4ccc89",
   "metadata": {},
   "outputs": [],
   "source": []
  }
 ],
 "metadata": {
  "kernelspec": {
   "display_name": "Python (bookmaker_env)",
   "language": "python",
   "name": "bookmaker_env"
  },
  "language_info": {
   "codemirror_mode": {
    "name": "ipython",
    "version": 3
   },
   "file_extension": ".py",
   "mimetype": "text/x-python",
   "name": "python",
   "nbconvert_exporter": "python",
   "pygments_lexer": "ipython3",
   "version": "3.11.10"
  },
  "toc": {
   "base_numbering": 1,
   "nav_menu": {},
   "number_sections": true,
   "sideBar": true,
   "skip_h1_title": false,
   "title_cell": "Table of Contents",
   "title_sidebar": "Contents",
   "toc_cell": false,
   "toc_position": {},
   "toc_section_display": true,
   "toc_window_display": false
  },
  "varInspector": {
   "cols": {
    "lenName": 16,
    "lenType": 16,
    "lenVar": 40
   },
   "kernels_config": {
    "python": {
     "delete_cmd_postfix": "",
     "delete_cmd_prefix": "del ",
     "library": "var_list.py",
     "varRefreshCmd": "print(var_dic_list())"
    },
    "r": {
     "delete_cmd_postfix": ") ",
     "delete_cmd_prefix": "rm(",
     "library": "var_list.r",
     "varRefreshCmd": "cat(var_dic_list()) "
    }
   },
   "types_to_exclude": [
    "module",
    "function",
    "builtin_function_or_method",
    "instance",
    "_Feature"
   ],
   "window_display": false
  }
 },
 "nbformat": 4,
 "nbformat_minor": 5
}

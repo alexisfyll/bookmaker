{
 "cells": [
  {
   "cell_type": "code",
   "execution_count": 26,
   "metadata": {},
   "outputs": [],
   "source": [
    "import pandas as pd\n",
    "import requests\n",
    "from bs4 import BeautifulSoup\n",
    "import re"
   ]
  },
  {
   "cell_type": "code",
   "execution_count": 4,
   "metadata": {},
   "outputs": [
    {
     "data": {
      "text/plain": [
       "'/Users/alexisfayolle/code/alexisfyll/bookmaker'"
      ]
     },
     "execution_count": 4,
     "metadata": {},
     "output_type": "execute_result"
    }
   ],
   "source": [
    "import subprocess\n",
    "import os\n",
    "\n",
    "# Get the root directory of the git repository\n",
    "def get_git_root():\n",
    "    return subprocess.check_output(['git', 'rev-parse', '--show-toplevel']).strip().decode('utf-8')\n",
    "\n",
    "# Use the function\n",
    "repo_root = get_git_root()\n",
    "repo_root"
   ]
  },
  {
   "cell_type": "code",
   "execution_count": 6,
   "metadata": {},
   "outputs": [
    {
     "data": {
      "text/html": [
       "<div>\n",
       "<style scoped>\n",
       "    .dataframe tbody tr th:only-of-type {\n",
       "        vertical-align: middle;\n",
       "    }\n",
       "\n",
       "    .dataframe tbody tr th {\n",
       "        vertical-align: top;\n",
       "    }\n",
       "\n",
       "    .dataframe thead th {\n",
       "        text-align: right;\n",
       "    }\n",
       "</style>\n",
       "<table border=\"1\" class=\"dataframe\">\n",
       "  <thead>\n",
       "    <tr style=\"text-align: right;\">\n",
       "      <th></th>\n",
       "      <th>Unnamed: 0</th>\n",
       "      <th>gameweek</th>\n",
       "      <th>date</th>\n",
       "      <th>home_team</th>\n",
       "      <th>score</th>\n",
       "      <th>away_team</th>\n",
       "      <th>game_id</th>\n",
       "      <th>home_id</th>\n",
       "      <th>away_id</th>\n",
       "    </tr>\n",
       "  </thead>\n",
       "  <tbody>\n",
       "    <tr>\n",
       "      <th>0</th>\n",
       "      <td>0</td>\n",
       "      <td>1.0</td>\n",
       "      <td>2023-08-11</td>\n",
       "      <td>Burnley</td>\n",
       "      <td>0–3</td>\n",
       "      <td>Manchester City</td>\n",
       "      <td>3a6836b4</td>\n",
       "      <td>943e8050</td>\n",
       "      <td>b8fd03ef</td>\n",
       "    </tr>\n",
       "    <tr>\n",
       "      <th>1</th>\n",
       "      <td>1</td>\n",
       "      <td>1.0</td>\n",
       "      <td>2023-08-12</td>\n",
       "      <td>Arsenal</td>\n",
       "      <td>2–1</td>\n",
       "      <td>Nott'ham Forest</td>\n",
       "      <td>26a7f90c</td>\n",
       "      <td>18bb7c10</td>\n",
       "      <td>e4a775cb</td>\n",
       "    </tr>\n",
       "    <tr>\n",
       "      <th>2</th>\n",
       "      <td>2</td>\n",
       "      <td>1.0</td>\n",
       "      <td>2023-08-12</td>\n",
       "      <td>Everton</td>\n",
       "      <td>0–1</td>\n",
       "      <td>Fulham</td>\n",
       "      <td>15addfc7</td>\n",
       "      <td>d3fd31cc</td>\n",
       "      <td>fd962109</td>\n",
       "    </tr>\n",
       "    <tr>\n",
       "      <th>3</th>\n",
       "      <td>3</td>\n",
       "      <td>1.0</td>\n",
       "      <td>2023-08-12</td>\n",
       "      <td>Sheffield Utd</td>\n",
       "      <td>0–1</td>\n",
       "      <td>Crystal Palace</td>\n",
       "      <td>55fd92c7</td>\n",
       "      <td>1df6b87e</td>\n",
       "      <td>47c64c55</td>\n",
       "    </tr>\n",
       "  </tbody>\n",
       "</table>\n",
       "</div>"
      ],
      "text/plain": [
       "   Unnamed: 0  gameweek        date      home_team score        away_team  \\\n",
       "0           0       1.0  2023-08-11        Burnley   0–3  Manchester City   \n",
       "1           1       1.0  2023-08-12        Arsenal   2–1  Nott'ham Forest   \n",
       "2           2       1.0  2023-08-12        Everton   0–1           Fulham   \n",
       "3           3       1.0  2023-08-12  Sheffield Utd   0–1   Crystal Palace   \n",
       "\n",
       "    game_id   home_id   away_id  \n",
       "0  3a6836b4  943e8050  b8fd03ef  \n",
       "1  26a7f90c  18bb7c10  e4a775cb  \n",
       "2  15addfc7  d3fd31cc  fd962109  \n",
       "3  55fd92c7  1df6b87e  47c64c55  "
      ]
     },
     "execution_count": 6,
     "metadata": {},
     "output_type": "execute_result"
    }
   ],
   "source": [
    "# Load dataset\n",
    "df_g=pd.read_csv(f'{repo_root}/raw_data/data_pl_23-24.csv')\n",
    "\n",
    "df_g.head(4)"
   ]
  },
  {
   "cell_type": "code",
   "execution_count": 50,
   "metadata": {},
   "outputs": [
    {
     "data": {
      "text/plain": [
       "'26a7f90c'"
      ]
     },
     "execution_count": 50,
     "metadata": {},
     "output_type": "execute_result"
    }
   ],
   "source": [
    "# Url parameters\n",
    "game_url_pf = 'https://fbref.com/en/matches/'\n",
    "game_index = 1\n",
    "df_g.loc[game_index, 'game_id']"
   ]
  },
  {
   "cell_type": "code",
   "execution_count": 51,
   "metadata": {},
   "outputs": [
    {
     "data": {
      "text/plain": [
       "'https://fbref.com/en/matches/26a7f90c'"
      ]
     },
     "execution_count": 51,
     "metadata": {},
     "output_type": "execute_result"
    }
   ],
   "source": [
    "# Game url generation\n",
    "game_url=game_url_pf + df_g.loc[game_index, 'game_id']\n",
    "game_url"
   ]
  },
  {
   "cell_type": "code",
   "execution_count": 52,
   "metadata": {},
   "outputs": [],
   "source": [
    "# Initializing parser\n",
    "response = requests.get(game_url)\n",
    "soup = BeautifulSoup(response.content, \"html.parser\")"
   ]
  },
  {
   "cell_type": "code",
   "execution_count": 53,
   "metadata": {},
   "outputs": [
    {
     "data": {
      "text/plain": [
       "'78%'"
      ]
     },
     "execution_count": 53,
     "metadata": {},
     "output_type": "execute_result"
    }
   ],
   "source": [
    "# Way to get home possession\n",
    "soup.find(id='team_stats').find('td').find('div').find('div').string"
   ]
  },
  {
   "cell_type": "code",
   "execution_count": 58,
   "metadata": {},
   "outputs": [
    {
     "data": {
      "text/plain": [
       "'18bb7c10'"
      ]
     },
     "execution_count": 58,
     "metadata": {},
     "output_type": "execute_result"
    }
   ],
   "source": [
    "# Get home team stats \n",
    "home_id = df_g.loc[game_index, 'home_id']\n",
    "home_id"
   ]
  },
  {
   "cell_type": "code",
   "execution_count": 61,
   "metadata": {},
   "outputs": [
    {
     "data": {
      "text/plain": [
       "<tfoot><tr><th class=\"left\" data-stat=\"player\" scope=\"row\">14 Players</th><td class=\"right iz\" data-stat=\"shirtnumber\"></td><td class=\"left iz\" data-stat=\"nationality\"></td><td class=\"center iz\" data-stat=\"position\"></td><td class=\"center iz\" data-stat=\"age\"></td><td class=\"right\" data-stat=\"minutes\">990</td><td class=\"right group_start\" data-stat=\"goals\">2</td><td class=\"right\" data-stat=\"assists\">2</td><td class=\"right iz\" data-stat=\"pens_made\">0</td><td class=\"right iz\" data-stat=\"pens_att\">0</td><td class=\"right\" data-stat=\"shots\">15</td><td class=\"right\" data-stat=\"shots_on_target\">7</td><td class=\"right\" data-stat=\"cards_yellow\">2</td><td class=\"right iz\" data-stat=\"cards_red\">0</td><td class=\"right\" data-stat=\"touches\">902</td><td class=\"right\" data-stat=\"tackles\">19</td><td class=\"right\" data-stat=\"interceptions\">7</td><td class=\"right\" data-stat=\"blocks\">6</td><td class=\"right group_start\" data-stat=\"xg\">0.8</td><td class=\"right\" data-stat=\"npxg\">0.8</td><td class=\"right\" data-stat=\"xg_assist\">0.6</td><td class=\"right group_start\" data-stat=\"sca\">30</td><td class=\"right\" data-stat=\"gca\">4</td><td class=\"right group_start\" data-stat=\"passes_completed\">716</td><td class=\"right\" data-stat=\"passes\">807</td><td class=\"right\" data-stat=\"passes_pct\">88.7</td><td class=\"right\" data-stat=\"progressive_passes\">58</td><td class=\"right group_start\" data-stat=\"carries\">706</td><td class=\"right\" data-stat=\"progressive_carries\">34</td><td class=\"right group_start\" data-stat=\"take_ons\">15</td><td class=\"right\" data-stat=\"take_ons_won\">4</td></tr> </tfoot>"
      ]
     },
     "execution_count": 61,
     "metadata": {},
     "output_type": "execute_result"
    }
   ],
   "source": [
    "home_balise = f'stats_{home_id}_summary'\n",
    "soup.find(id=home_balise).find('tfoot')"
   ]
  },
  {
   "cell_type": "code",
   "execution_count": null,
   "metadata": {},
   "outputs": [],
   "source": []
  },
  {
   "cell_type": "code",
   "execution_count": null,
   "metadata": {},
   "outputs": [],
   "source": []
  },
  {
   "cell_type": "code",
   "execution_count": null,
   "metadata": {},
   "outputs": [],
   "source": []
  },
  {
   "cell_type": "code",
   "execution_count": null,
   "metadata": {},
   "outputs": [],
   "source": []
  },
  {
   "cell_type": "code",
   "execution_count": null,
   "metadata": {},
   "outputs": [],
   "source": []
  },
  {
   "cell_type": "code",
   "execution_count": null,
   "metadata": {},
   "outputs": [],
   "source": []
  },
  {
   "cell_type": "code",
   "execution_count": null,
   "metadata": {},
   "outputs": [],
   "source": []
  },
  {
   "cell_type": "code",
   "execution_count": null,
   "metadata": {},
   "outputs": [],
   "source": []
  },
  {
   "cell_type": "code",
   "execution_count": null,
   "metadata": {},
   "outputs": [],
   "source": []
  }
 ],
 "metadata": {
  "kernelspec": {
   "display_name": "bookmaker_env",
   "language": "python",
   "name": "python3"
  },
  "language_info": {
   "codemirror_mode": {
    "name": "ipython",
    "version": 3
   },
   "file_extension": ".py",
   "mimetype": "text/x-python",
   "name": "python",
   "nbconvert_exporter": "python",
   "pygments_lexer": "ipython3",
   "version": "3.11.10"
  }
 },
 "nbformat": 4,
 "nbformat_minor": 2
}
